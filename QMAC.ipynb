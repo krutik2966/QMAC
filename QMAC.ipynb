{
 "cells": [
  {
   "cell_type": "code",
   "execution_count": 434,
   "metadata": {},
   "outputs": [],
   "source": [
    "from qiskit import QuantumRegister,ClassicalRegister,QuantumCircuit,Aer,execute\n",
    "from qiskit.visualization import plot_histogram\n",
    "from math import pi"
   ]
  },
  {
   "cell_type": "code",
   "execution_count": 435,
   "metadata": {},
   "outputs": [],
   "source": [
    "# This code is taken from IBMQ website.\n",
    "# source : https://qiskit.org/textbook/ch-algorithms/quantum-fourier-transform.html\n",
    "\n",
    "def qft_rotations(circuit, n):\n",
    "    \"\"\"Performs qft on the first n qubits in circuit (without swaps)\"\"\"\n",
    "\n",
    "    if n == 0:\n",
    "        return circuit\n",
    "    n -= 1\n",
    "    circuit.h(n)\n",
    "    for qubit in range(n):\n",
    "        circuit.cu1(pi/2**(n-qubit), qubit, n)\n",
    "    # At the end of our function, we call the same function again on\n",
    "    # the next qubits (we reduced n by one earlier in the function)\n",
    "    qft_rotations(circuit, n)\n",
    "    \n",
    "def swap_registers(circuit, n):\n",
    "    for qubit in range(n//2):\n",
    "        circuit.swap(qubit, n-qubit-1)\n",
    "    return circuit\n",
    "\n",
    "def qft(circuit, n):\n",
    "    \"\"\"QFT on the first n qubits in circuit\"\"\"\n",
    "    qft_rotations(circuit, n)\n",
    "    swap_registers(circuit, n)\n",
    "\n",
    "    return circuit"
   ]
  },
  {
   "cell_type": "code",
   "execution_count": 436,
   "metadata": {},
   "outputs": [],
   "source": [
    "# This code is taken from IBMQ website.\n",
    "# source : https://qiskit.org/textbook/ch-algorithms/quantum-fourier-transform.html\n",
    "\n",
    "def inverse_qft(circuit, n):\n",
    "    \"\"\"Does the inverse QFT on the first n qubits in circuit\"\"\"\n",
    "    # First we create a QFT circuit of the correct size:\n",
    "    qft_circ = qft(QuantumCircuit(n), n)\n",
    "    # Then we take the inverse of this circuit\n",
    "    invqft_circ = qft_circ.inverse()\n",
    "    # And add it to the first n qubits in our existing circuit\n",
    "    circuit.append(invqft_circ, circuit.qubits[:n])\n",
    "    \n",
    "    return circuit.decompose() # .decompose() allows us to see the individual gates"
   ]
  },
  {
   "cell_type": "code",
   "execution_count": 437,
   "metadata": {},
   "outputs": [],
   "source": [
    "def f_gate(qc,j,n):\n",
    "    \n",
    "    if j>1:\n",
    "        qc.cx(j,int(n/2)+1)\n",
    "        qc.cx(j,int(n/2)+j)\n",
    "    elif j==1:\n",
    "        qc.cx(j,int(n/2))\n",
    "\n",
    "def inv_f_gate(qc,j,n):\n",
    "\n",
    "    if j>1:\n",
    "        qc.cx(j,int(n/2)+j)\n",
    "        qc.cx(j,int(n/2)+1)\n",
    "    elif j==1:\n",
    "        qc.cx(j,int(n/2))"
   ]
  },
  {
   "cell_type": "code",
   "execution_count": 438,
   "metadata": {},
   "outputs": [],
   "source": [
    "def q_gate(qc,y,j,n):\n",
    "        \n",
    "    bin_y = bin(y)[2:]      \n",
    "    bin_y = list(reversed(bin_y))\n",
    "     \n",
    "    if bin_y[j]=='1':\n",
    "        qc.rz(pi,j)  # Implementing R1 gate if yj is set \n",
    "    \n",
    "    for i in list(reversed(range(j))):       #R2 to Rj gates if corresponding y bt is set\n",
    "        if bin_y[i]=='1':\n",
    "            qc.rz(pi/(2**(j-i)),int(n/2)-1+j-i)"
   ]
  },
  {
   "cell_type": "code",
   "execution_count": 439,
   "metadata": {},
   "outputs": [],
   "source": [
    "def m_gate(qc,x,y,j,n):\n",
    "    \n",
    "    bin_x = bin(x)[2:]\n",
    "        \n",
    "    bin_x = list(reversed(bin_x))\n",
    "\n",
    "    for i in range(j+1):\n",
    "        if(bin_x[i]=='1'):     \n",
    "            f_gate(qc,j-i,n)\n",
    "            q_gate(qc,y,j-i,n)\n",
    "            inv_f_gate(qc,j-i,n)"
   ]
  },
  {
   "cell_type": "code",
   "execution_count": 440,
   "metadata": {},
   "outputs": [],
   "source": [
    "z = 5\n",
    "y = 4       # multiplicand\n",
    "x = 6       # multiplier\n",
    "\n",
    "if x > y:\n",
    "    x,y = y,x\n",
    "    \n",
    "n = len(bin(z)[2:])*2\n",
    "\n",
    "# x,y,z has to have same length \n",
    "\n",
    "if len(bin(y)[2:]) != n//2 or len(bin(x)[2:]) != n//2:\n",
    "    print(\"Please enter value which in same length of binary(z)\")"
   ]
  },
  {
   "cell_type": "code",
   "execution_count": 441,
   "metadata": {},
   "outputs": [],
   "source": [
    "q = QuantumRegister(n)\n",
    "c = ClassicalRegister(n)\n",
    "\n",
    "qc = QuantumCircuit(q,c)\n",
    "\n",
    "# Initialize the binary value of z in first n/2 qubits \n",
    "for i in range(n//2):\n",
    "    if bin(z)[2+i] == '1':\n",
    "        qc.x(n//2-1-i)\n"
   ]
  },
  {
   "cell_type": "code",
   "execution_count": 442,
   "metadata": {},
   "outputs": [
    {
     "data": {
      "text/plain": [
       "<qiskit.circuit.quantumcircuit.QuantumCircuit at 0x20aa3030748>"
      ]
     },
     "execution_count": 442,
     "metadata": {},
     "output_type": "execute_result"
    }
   ],
   "source": [
    "qft(qc,int(n/2))\n",
    "\n",
    "for i in range(int(n/2)):\n",
    "    m_gate(qc,x,y,i,n)\n",
    "\n",
    "inverse_qft(qc,int(n/2))"
   ]
  },
  {
   "cell_type": "code",
   "execution_count": 443,
   "metadata": {},
   "outputs": [
    {
     "data": {
      "text/plain": [
       "<qiskit.circuit.instructionset.InstructionSet at 0x20aa32295c8>"
      ]
     },
     "execution_count": 443,
     "metadata": {},
     "output_type": "execute_result"
    }
   ],
   "source": [
    "qc.measure(q[:n//2],c[:n//2])\n",
    "# qc.draw()"
   ]
  },
  {
   "cell_type": "code",
   "execution_count": 444,
   "metadata": {},
   "outputs": [],
   "source": [
    "back = Aer.get_backend('qasm_simulator')\n",
    "job = execute(qc,back,shots=1048)\n",
    "res = job.result()\n",
    "cnt = res.get_counts()"
   ]
  },
  {
   "cell_type": "code",
   "execution_count": 449,
   "metadata": {},
   "outputs": [
    {
     "name": "stdout",
     "output_type": "stream",
     "text": [
      "Correct Answer: 29\n",
      "29 % 3 = 2\n",
      "29 % 6 = 5\n",
      "29 % 12 = 5\n"
     ]
    },
    {
     "data": {
      "image/png": "[encoded data removed]",
      "text/plain": [
       "<Figure size 504x360 with 1 Axes>"
      ]
     },
     "execution_count": 449,
     "metadata": {},
     "output_type": "execute_result"
    }
   ],
   "source": [
    "print(\"Correct Answer:\",z + y*x)\n",
    "print(z + y*x,\"%\",n//2,\"=\",(z+(y*x))%(n//2))\n",
    "for i in range(n//2-1):\n",
    "    print(z + y*x,\"%\",n*(i+1),\"=\",(z+(y*x))%(n*(i+1)))\n",
    "    \n",
    "plot_histogram(cnt)"
   ]
  },
  {
   "cell_type": "code",
   "execution_count": null,
   "metadata": {},
   "outputs": [],
   "source": []
  }
 ],
 "metadata": {
  "kernelspec": {
   "display_name": "Python 3",
   "language": "python",
   "name": "python3"
  },
  "language_info": {
   "codemirror_mode": {
    "name": "ipython",
    "version": 3
   },
   "file_extension": ".py",
   "mimetype": "text/x-python",
   "name": "python",
   "nbconvert_exporter": "python",
   "pygments_lexer": "ipython3",
   "version": "3.7.4"
  }
 },
 "nbformat": 4,
 "nbformat_minor": 4
}
